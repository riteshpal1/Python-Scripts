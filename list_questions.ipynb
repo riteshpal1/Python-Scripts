{
 "cells": [
  {
   "cell_type": "markdown",
   "metadata": {},
   "source": [
    "### Que. 1 Create a list of size n, with random numbers from 0 to 100"
   ]
  },
  {
   "cell_type": "code",
   "execution_count": 2,
   "metadata": {},
   "outputs": [
    {
     "name": "stdout",
     "output_type": "stream",
     "text": [
      "[3, 58, 84, 61, 78, 69, 30, 28, 12, 78]\n"
     ]
    }
   ],
   "source": [
    "from random import  randint\n",
    "n = int (input(\"size of list: \"))  # size of list\n",
    "x = []                             # empty list\n",
    "for i in range(n):\n",
    "  val = randint(1,100)\n",
    "  x.append(val)\n",
    "print(x)"
   ]
  },
  {
   "cell_type": "markdown",
   "metadata": {},
   "source": [
    "### Que. 2 Calculate the mean, max, min, sum of list"
   ]
  },
  {
   "cell_type": "code",
   "execution_count": 3,
   "metadata": {},
   "outputs": [
    {
     "name": "stdout",
     "output_type": "stream",
     "text": [
      "Total: 501\n",
      "min: 3\n",
      "max: 84\n",
      "mean: 50.1\n"
     ]
    }
   ],
   "source": [
    "total = sum(x)\n",
    "xmin = min(x)\n",
    "xmax = max(x)\n",
    "xmean = total/len(x)\n",
    "print(\"Total:\", total)\n",
    "print(\"min:\", xmin)\n",
    "print(\"max:\", xmax)\n",
    "print(\"mean:\", xmean)\n"
   ]
  },
  {
   "cell_type": "markdown",
   "metadata": {},
   "source": [
    "### Que. 3 Generate a list pf 25 elements, then create a smaller list of numbers from that list based on the following conditions\n",
    "\n",
    "    number that is divisible by 3\n",
    "    number that is divisible by 5\n",
    "    number that is divisible by both 3 and 5"
   ]
  },
  {
   "cell_type": "code",
   "execution_count": 5,
   "metadata": {},
   "outputs": [
    {
     "name": "stdout",
     "output_type": "stream",
     "text": [
      "[1, 2, 3, 4, 5, 6, 7, 8, 9, 10, 11, 12, 13, 14, 15, 16, 17, 18, 19, 20, 21, 22, 23, 24, 25]\n",
      "[3, 5, 6, 9, 10, 12, 15, 18, 20, 21, 24, 25]\n"
     ]
    }
   ],
   "source": [
    "x = list(range(1,26))\n",
    "print(x)\n",
    "xs = []\n",
    "for i in x:\n",
    "  if i % 3 == 0 and i % 5 == 0:\n",
    "    xs.append(i)\n",
    "  elif i % 3 == 0:\n",
    "    xs.append(i)\n",
    "  elif i % 5 == 0:\n",
    "    xs.append(i)\n",
    "print(xs)"
   ]
  },
  {
   "cell_type": "markdown",
   "metadata": {},
   "source": [
    "#### Que. 4 Remove every 3rd element from the list from a list of size 25 and print the list"
   ]
  },
  {
   "cell_type": "code",
   "execution_count": 15,
   "metadata": {},
   "outputs": [
    {
     "name": "stdout",
     "output_type": "stream",
     "text": [
      "[101, 102, 103, 105, 106, 107, 109, 110, 111, 113, 114, 115, 117, 118, 119, 121, 122, 123]\n"
     ]
    }
   ],
   "source": [
    "x = list(range(100,125))\n",
    "for i,v in enumerate(x):\n",
    "  if i % 3 == 0:\n",
    "    x.pop(i)\n",
    "print(x)\n"
   ]
  },
  {
   "cell_type": "markdown",
   "metadata": {},
   "source": [
    "#### Que. 5 Take names of 10 movies from the user and store them in a list in a  sorted order"
   ]
  },
  {
   "cell_type": "code",
   "execution_count": 24,
   "metadata": {},
   "outputs": [
    {
     "ename": "TypeError",
     "evalue": "len() takes exactly one argument (2 given)",
     "output_type": "error",
     "traceback": [
      "\u001b[1;31m---------------------------------------------------------------------------\u001b[0m",
      "\u001b[1;31mTypeError\u001b[0m                                 Traceback (most recent call last)",
      "\u001b[1;32mc:\\Users\\MY PC\\Documents\\Python Scripts\\list_questions.ipynb Cell 10'\u001b[0m in \u001b[0;36m<cell line: 2>\u001b[1;34m()\u001b[0m\n\u001b[0;32m      <a href='vscode-notebook-cell:/c%3A/Users/MY%20PC/Documents/Python%20Scripts/list_questions.ipynb#ch0000008?line=0'>1</a>\u001b[0m movies \u001b[39m=\u001b[39m \u001b[39minput\u001b[39m(\u001b[39m'\u001b[39m\u001b[39menter your movies:\u001b[39m\u001b[39m'\u001b[39m)\n\u001b[1;32m----> <a href='vscode-notebook-cell:/c%3A/Users/MY%20PC/Documents/Python%20Scripts/list_questions.ipynb#ch0000008?line=1'>2</a>\u001b[0m x \u001b[39m=\u001b[39m (movies,\u001b[39mlen\u001b[39;49m(\u001b[39m1\u001b[39;49m,\u001b[39m5\u001b[39;49m))\n\u001b[0;32m      <a href='vscode-notebook-cell:/c%3A/Users/MY%20PC/Documents/Python%20Scripts/list_questions.ipynb#ch0000008?line=2'>3</a>\u001b[0m movies\u001b[39m.\u001b[39msort()\n\u001b[0;32m      <a href='vscode-notebook-cell:/c%3A/Users/MY%20PC/Documents/Python%20Scripts/list_questions.ipynb#ch0000008?line=3'>4</a>\u001b[0m \u001b[39mprint\u001b[39m(movies)\n",
      "\u001b[1;31mTypeError\u001b[0m: len() takes exactly one argument (2 given)"
     ]
    }
   ],
   "source": [
    "movies = input('enter your movies:')\n",
    "x = (movies,len(1,5)):\n",
    "movies.sort()\n",
    "print(movies)"
   ]
  },
  {
   "cell_type": "code",
   "execution_count": 19,
   "metadata": {},
   "outputs": [],
   "source": [
    "movies = [\n",
    "    'The Shawshank Redemption',\n",
    "    'The Godfather',\n",
    "    'The Godfather: Part II',\n",
    "    'The Dark Knight',\n",
    "    '12 Angry mens',]"
   ]
  },
  {
   "cell_type": "code",
   "execution_count": 28,
   "metadata": {},
   "outputs": [
    {
     "name": "stdout",
     "output_type": "stream",
     "text": [
      "[',', ',', ',', ',', ',', ',', ',', ',', ',', 'm']\n"
     ]
    }
   ],
   "source": [
    "movies = []\n",
    "for i in range(10):\n",
    "    movie = input(\"Enter a movie: \")\n",
    "    movies.append(movie)\n",
    "movies.sort()\n",
    "print(movies)"
   ]
  },
  {
   "cell_type": "markdown",
   "metadata": {},
   "source": [
    "### Que. 6 Create a nested list that contains triplets at each index"
   ]
  },
  {
   "cell_type": "code",
   "execution_count": 29,
   "metadata": {},
   "outputs": [
    {
     "name": "stdout",
     "output_type": "stream",
     "text": [
      "[[0, 0, 0], [1, 1, 1], [2, 2, 2], [3, 3, 3], [4, 4, 4]]\n"
     ]
    }
   ],
   "source": [
    "x3 = []\n",
    "for i in range(5):\n",
    "  x3.append([i,i,i])\n",
    "print(x3)"
   ]
  },
  {
   "cell_type": "code",
   "execution_count": 40,
   "metadata": {},
   "outputs": [
    {
     "ename": "SyntaxError",
     "evalue": "invalid syntax (824733848.py, line 1)",
     "output_type": "error",
     "traceback": [
      "\u001b[1;36m  Input \u001b[1;32mIn [40]\u001b[1;36m\u001b[0m\n\u001b[1;33m    ********\u001b[0m\n\u001b[1;37m    ^\u001b[0m\n\u001b[1;31mSyntaxError\u001b[0m\u001b[1;31m:\u001b[0m invalid syntax\n"
     ]
    }
   ],
   "source": [
    "********\n",
    "\n",
    "\n",
    "\n",
    "x3 = []\n",
    "for i in range(1,5):\n",
    "  x3.append([i,i+1,i+2,])\n",
    "print(x3)    \n",
    "\n",
    "\n",
    "********"
   ]
  },
  {
   "cell_type": "code",
   "execution_count": 41,
   "metadata": {},
   "outputs": [
    {
     "name": "stdout",
     "output_type": "stream",
     "text": [
      "[[1, 2, 3], [4, 5, 6], [7, 8, 9]]\n"
     ]
    }
   ],
   "source": [
    "outer = []\n",
    "count = 1\n",
    "for i in range(1,4):\n",
    "  inner = []\n",
    "  for j in range(1,4):\n",
    "    inner.append(count)\n",
    "    count += 1\n",
    "  outer.append(inner)\n",
    "print(outer)"
   ]
  },
  {
   "cell_type": "code",
   "execution_count": null,
   "metadata": {},
   "outputs": [],
   "source": []
  }
 ],
 "metadata": {
  "interpreter": {
   "hash": "19d1d53a962d236aa061289c2ac16dc8e6d9648c89fe79f459ae9a3493bc67b4"
  },
  "kernelspec": {
   "display_name": "Python 3.9.12 ('base')",
   "language": "python",
   "name": "python3"
  },
  "language_info": {
   "codemirror_mode": {
    "name": "ipython",
    "version": 3
   },
   "file_extension": ".py",
   "mimetype": "text/x-python",
   "name": "python",
   "nbconvert_exporter": "python",
   "pygments_lexer": "ipython3",
   "version": "3.9.12"
  },
  "orig_nbformat": 4
 },
 "nbformat": 4,
 "nbformat_minor": 2
}
