{
 "cells": [
  {
   "cell_type": "code",
   "execution_count": 5,
   "metadata": {},
   "outputs": [
    {
     "name": "stdout",
     "output_type": "stream",
     "text": [
      "Hello\n",
      "Hello\n",
      "Hello\n",
      "Hello, Welcome to the world of python\n"
     ]
    }
   ],
   "source": [
    "# defining strings in python \n",
    "# all of the followinng are equivallent\n",
    "\n",
    "my_string ='Hello'\n",
    "print(my_string)\n",
    "\n",
    "my_string =\"Hello\"\n",
    "print(my_string)\n",
    "\n",
    "\n",
    "my_string ='''Hello'''\n",
    "print(my_string)\n",
    "\n",
    "# triple quotes string can extend multiple lines\n",
    "my_string = \"\"\"Hello, Welcome to the world of python\"\"\"\n",
    "print(my_string)"
   ]
  },
  {
   "cell_type": "code",
   "execution_count": 7,
   "metadata": {},
   "outputs": [
    {
     "name": "stdout",
     "output_type": "stream",
     "text": [
      "d digipodium\n",
      "str[0] d\n"
     ]
    }
   ],
   "source": [
    "#Accessing string characters in python\n",
    "str = 'digipodium'\n",
    "print(str[0], str)\n",
    "\n",
    "#first character\n",
    "print('str[0]', str[0])\n",
    "\n",
    "#second character\n",
    "print('str[1]', str[1])\n",
    "\n",
    "#"
   ]
  },
  {
   "cell_type": "markdown",
   "metadata": {},
   "source": [
    "## Slicing"
   ]
  },
  {
   "cell_type": "code",
   "execution_count": 15,
   "metadata": {},
   "outputs": [
    {
     "name": "stdout",
     "output_type": "stream",
     "text": [
      "podium\n"
     ]
    }
   ],
   "source": [
    "# Getiing a slice\n",
    "\n",
    "s = 'digipodium'\n",
    "slice1 = s[4:10]\n",
    "print(slice1)"
   ]
  },
  {
   "cell_type": "code",
   "execution_count": 17,
   "metadata": {},
   "outputs": [],
   "source": [
    " x = \"sodium carbonate\""
   ]
  },
  {
   "cell_type": "code",
   "execution_count": 19,
   "metadata": {},
   "outputs": [
    {
     "data": {
      "text/plain": [
       "'sodium'"
      ]
     },
     "execution_count": 19,
     "metadata": {},
     "output_type": "execute_result"
    }
   ],
   "source": [
    " x[:6]"
   ]
  },
  {
   "cell_type": "code",
   "execution_count": 20,
   "metadata": {},
   "outputs": [
    {
     "data": {
      "text/plain": [
       "'carbonate'"
      ]
     },
     "execution_count": 20,
     "metadata": {},
     "output_type": "execute_result"
    }
   ],
   "source": [
    "x[7:]"
   ]
  },
  {
   "cell_type": "code",
   "execution_count": 22,
   "metadata": {},
   "outputs": [
    {
     "name": "stdout",
     "output_type": "stream",
     "text": [
      "A\n"
     ]
    }
   ],
   "source": [
    "x  = chr(65)\n",
    "print(x)"
   ]
  },
  {
   "cell_type": "code",
   "execution_count": 23,
   "metadata": {},
   "outputs": [
    {
     "name": "stdout",
     "output_type": "stream",
     "text": [
      "ऽ\n"
     ]
    }
   ],
   "source": [
    "x = chr(2365)\n",
    "print(x)"
   ]
  },
  {
   "cell_type": "code",
   "execution_count": 26,
   "metadata": {},
   "outputs": [
    {
     "name": "stdout",
     "output_type": "stream",
     "text": [
      "き\n"
     ]
    }
   ],
   "source": [
    "x = chr(12365)\n",
    "print(x)"
   ]
  },
  {
   "cell_type": "markdown",
   "metadata": {},
   "source": []
  },
  {
   "cell_type": "code",
   "execution_count": 27,
   "metadata": {},
   "outputs": [],
   "source": [
    "w = \"Worldsingers\""
   ]
  },
  {
   "cell_type": "code",
   "execution_count": 28,
   "metadata": {},
   "outputs": [
    {
     "data": {
      "text/plain": [
       "'World'"
      ]
     },
     "execution_count": 28,
     "metadata": {},
     "output_type": "execute_result"
    }
   ],
   "source": [
    "#slicing\n",
    "w[ :5]"
   ]
  },
  {
   "cell_type": "code",
   "execution_count": 29,
   "metadata": {},
   "outputs": [
    {
     "data": {
      "text/plain": [
       "'olsnes'"
      ]
     },
     "execution_count": 29,
     "metadata": {},
     "output_type": "execute_result"
    }
   ],
   "source": [
    "w[1: :2] #Odd indexs"
   ]
  },
  {
   "cell_type": "code",
   "execution_count": 32,
   "metadata": {},
   "outputs": [
    {
     "data": {
      "text/plain": [
       "'Wrdigr'"
      ]
     },
     "execution_count": 32,
     "metadata": {},
     "output_type": "execute_result"
    }
   ],
   "source": [
    "w[ : :2] #even indexs"
   ]
  },
  {
   "cell_type": "code",
   "execution_count": 31,
   "metadata": {},
   "outputs": [
    {
     "data": {
      "text/plain": [
       "'sregnisdlroW'"
      ]
     },
     "execution_count": 31,
     "metadata": {},
     "output_type": "execute_result"
    }
   ],
   "source": [
    "w[ : : -1] #reverse indexs"
   ]
  },
  {
   "cell_type": "markdown",
   "metadata": {},
   "source": [
    "# String Patterns"
   ]
  },
  {
   "cell_type": "code",
   "execution_count": 36,
   "metadata": {},
   "outputs": [
    {
     "name": "stdout",
     "output_type": "stream",
     "text": [
      "            L  \n",
      "         L  L  \n",
      "      L  L  L  \n",
      "   L  L  L  L  \n",
      "L  L  L  L  L  \n"
     ]
    }
   ],
   "source": [
    "#right alignment\n",
    "for i in range(1,6):\n",
    "  print((i * 'L  ').rjust(15))"
   ]
  },
  {
   "cell_type": "code",
   "execution_count": 41,
   "metadata": {},
   "outputs": [
    {
     "name": "stdout",
     "output_type": "stream",
     "text": [
      "                                     L                                          \n",
      "                                L    L    L                                     \n",
      "                           L    L    L    L    L                                \n",
      "                      L    L    L    L    L    L    L                           \n",
      "                 L    L    L    L    L    L    L    L    L                      \n",
      "            L    L    L    L    L    L    L    L    L    L    L                 \n",
      "       L    L    L    L    L    L    L    L    L    L    L    L    L            \n"
     ]
    }
   ],
   "source": [
    "\n",
    "for i in range(1,15,2):\n",
    "  \n",
    "  print((i * 'L    ').center(80))\n"
   ]
  },
  {
   "cell_type": "code",
   "execution_count": 46,
   "metadata": {},
   "outputs": [
    {
     "name": "stdout",
     "output_type": "stream",
     "text": [
      "                                       *                                        \n",
      "                                      ***                                       \n",
      "                                     *****                                      \n",
      "                                    *******                                     \n",
      "                                   *********                                    \n",
      "                                  ***********                                   \n",
      "                                 *************                                  \n"
     ]
    }
   ],
   "source": [
    "for i in range(1,15,2):\n",
    "  print((i * '*').center(80))"
   ]
  },
  {
   "cell_type": "code",
   "execution_count": 52,
   "metadata": {},
   "outputs": [
    {
     "name": "stdout",
     "output_type": "stream",
     "text": [
      "                                                 0                                                  \n",
      "============================================= *  *  * ==============================================\n",
      "                                           0  0  0  0  0                                            \n",
      "======================================= *  *  *  *  *  *  * ========================================\n",
      "                                     0  0  0  0  0  0  0  0  0                                      \n",
      "================================= *  *  *  *  *  *  *  *  *  *  * ==================================\n",
      "                               0  0  0  0  0  0  0  0  0  0  0  0  0                                \n"
     ]
    }
   ],
   "source": [
    "for i, v in enumerate(range(1,15,2)):\n",
    "  if i % 2 == 0:\n",
    "    print((v* ' 0 ').center(100))\n",
    "  else:\n",
    "    print((v* ' * ').center(100,'='))"
   ]
  },
  {
   "cell_type": "markdown",
   "metadata": {},
   "source": [
    "functions"
   ]
  },
  {
   "cell_type": "code",
   "execution_count": 57,
   "metadata": {},
   "outputs": [
    {
     "name": "stdout",
     "output_type": "stream",
     "text": [
      "\u001b[1;31mSignature:\u001b[0m \u001b[0mw\u001b[0m\u001b[1;33m.\u001b[0m\u001b[0mcenter\u001b[0m\u001b[1;33m(\u001b[0m\u001b[0mwidth\u001b[0m\u001b[1;33m,\u001b[0m \u001b[0mfillchar\u001b[0m\u001b[1;33m=\u001b[0m\u001b[1;34m' '\u001b[0m\u001b[1;33m,\u001b[0m \u001b[1;33m/\u001b[0m\u001b[1;33m)\u001b[0m\u001b[1;33m\u001b[0m\u001b[1;33m\u001b[0m\u001b[0m\n",
      "\u001b[1;31mDocstring:\u001b[0m\n",
      "Return a centered string of length width.\n",
      "\n",
      "Padding is done using the specified fill character (default is a space).\n",
      "\u001b[1;31mType:\u001b[0m      builtin_function_or_method\n"
     ]
    }
   ],
   "source": [
    "w.center?"
   ]
  },
  {
   "cell_type": "code",
   "execution_count": 71,
   "metadata": {},
   "outputs": [],
   "source": [
    "story = '''Once upon a time, there was a clever monkey. He lived on a\n",
    "beautiful island, in an apple tree. One day, a crocodile swam\n",
    "to the island. im hungry, he said.\n",
    "So the monkey threw a red apple to the crocodile. The\n",
    "crocodile munched and munched. The next day, the\n",
    "crocodile came back. Please, may I have two apples? he asked. He ate one and gave\n",
    "one to his wife.\n",
    "The crocodile went to see the monkey every day, to listen to his tales and eat his\n",
    "apples. He wanted to be clever, just like the monkey. The crocodiles wife had an idea.\n",
    "Why dont you eat his heart? Then youll be clever, just like him!\n",
    "The next day, he said to the monkey, Come to my house! Well have lunch together, to\n",
    "thank you for the apples.\n",
    "But when he arrived, the crocodile snapped and said, Monkey! I want to eat your heart,\n",
    "so I can be as clever as you '''"
   ]
  },
  {
   "cell_type": "code",
   "execution_count": 72,
   "metadata": {},
   "outputs": [
    {
     "data": {
      "text/plain": [
       "819"
      ]
     },
     "execution_count": 72,
     "metadata": {},
     "output_type": "execute_result"
    }
   ],
   "source": [
    "len(story)"
   ]
  },
  {
   "cell_type": "code",
   "execution_count": 73,
   "metadata": {},
   "outputs": [
    {
     "name": "stdout",
     "output_type": "stream",
     "text": [
      "['Once', 'upon', 'a', 'time,', 'there', 'was', 'a', 'clever', 'monkey.', 'He', 'lived', 'on', 'a', 'beautiful', 'island,', 'in', 'an', 'apple', 'tree.', 'One', 'day,', 'a', 'crocodile', 'swam', 'to', 'the', 'island.', 'im', 'hungry,', 'he', 'said.', 'So', 'the', 'monkey', 'threw', 'a', 'red', 'apple', 'to', 'the', 'crocodile.', 'The', 'crocodile', 'munched', 'and', 'munched.', 'The', 'next', 'day,', 'the', 'crocodile', 'came', 'back.', 'Please,', 'may', 'I', 'have', 'two', 'apples?', 'he', 'asked.', 'He', 'ate', 'one', 'and', 'gave', 'one', 'to', 'his', 'wife.', 'The', 'crocodile', 'went', 'to', 'see', 'the', 'monkey', 'every', 'day,', 'to', 'listen', 'to', 'his', 'tales', 'and', 'eat', 'his', 'apples.', 'He', 'wanted', 'to', 'be', 'clever,', 'just', 'like', 'the', 'monkey.', 'The', 'crocodiles', 'wife', 'had', 'an', 'idea.', 'Why', 'dont', 'you', 'eat', 'his', 'heart?', 'Then', 'youll', 'be', 'clever,', 'just', 'like', 'him!', 'The', 'next', 'day,', 'he', 'said', 'to', 'the', 'monkey,', 'Come', 'to', 'my', 'house!', 'Well', 'have', 'lunch', 'together,', 'to', 'thank', 'you', 'for', 'the', 'apples.', 'But', 'when', 'he', 'arrived,', 'the', 'crocodile', 'snapped', 'and', 'said,', 'Monkey!', 'I', 'want', 'to', 'eat', 'your', 'heart,', 'so', 'I', 'can', 'be', 'as', 'clever', 'as', 'you']\n"
     ]
    }
   ],
   "source": [
    "print(story.split())"
   ]
  },
  {
   "cell_type": "code",
   "execution_count": 68,
   "metadata": {},
   "outputs": [
    {
     "name": "stdout",
     "output_type": "stream",
     "text": [
      "162\n"
     ]
    }
   ],
   "source": [
    "words = (story.split())\n",
    "print(len(words))"
   ]
  },
  {
   "cell_type": "code",
   "execution_count": 70,
   "metadata": {},
   "outputs": [
    {
     "data": {
      "text/plain": [
       "[' Once upon a time, there was a clever monkey',\n",
       " ' He lived on a\\nbeautiful island, in an apple tree',\n",
       " ' One day, a crocodile swam\\nto the island',\n",
       " ' im hungry, he said',\n",
       " '\\nSo the monkey threw a red apple to the crocodile',\n",
       " ' The\\ncrocodile munched and munched',\n",
       " ' The next day, the\\ncrocodile came back',\n",
       " ' Please, may I have two apples? he asked',\n",
       " ' He ate one and gave\\none to his wife',\n",
       " '\\nThe crocodile went to see the monkey every day, to listen to his tales and eat his\\napples',\n",
       " ' He wanted to be clever, just like the monkey',\n",
       " ' The crocodiles wife had an idea',\n",
       " '\\nWhy dont you eat his heart? Then youll be clever, just like him!\\nThe next day, he said to the monkey, Come to my house! Well have lunch together, to\\nthank you for the apples',\n",
       " '\\nBut when he arrived, the crocodile snapped and said, Monkey! I want to eat your heart,\\nso I can be as clever as you ']"
      ]
     },
     "execution_count": 70,
     "metadata": {},
     "output_type": "execute_result"
    }
   ],
   "source": [
    "story.split('.')"
   ]
  },
  {
   "cell_type": "code",
   "execution_count": 78,
   "metadata": {},
   "outputs": [],
   "source": [
    "wordlist = ['Chocolate', 'is', 'good', 'for', 'health']"
   ]
  },
  {
   "cell_type": "code",
   "execution_count": 82,
   "metadata": {},
   "outputs": [
    {
     "data": {
      "text/plain": [
       "'Chocolate is good for health'"
      ]
     },
     "execution_count": 82,
     "metadata": {},
     "output_type": "execute_result"
    }
   ],
   "source": [
    "' '.join(wordlist)"
   ]
  },
  {
   "cell_type": "code",
   "execution_count": 87,
   "metadata": {},
   "outputs": [
    {
     "data": {
      "text/plain": [
       "'Once          upon          a          time,          there          was          a          clever          monkey.          He          lived          on          a\\nbeautiful          island,          in          an          apple          tree.          One          day,          a          crocodile          swam\\nto          the          island.          im          hungry,          he          said.\\nSo          the          monkey          threw          a          red          apple          to          the          crocodile.          The\\ncrocodile          munched          and          munched.          The          next          day,          the\\ncrocodile          came          back.          Please,          may          I          have          two          apples?          he          asked.          He          ate          one          and          gave\\none          to          his          wife.\\nThe          crocodile          went          to          see          the          monkey          every          day,          to          listen          to          his          tales          and          eat          his\\napples.          He          wanted          to          be          clever,          just          like          the          monkey.          The          crocodiles          wife          had          an          idea.\\nWhy          dont          you          eat          his          heart?          Then          youll          be          clever,          just          like          him!\\nThe          next          day,          he          said          to          the          monkey,          Come          to          my          house!          Well          have          lunch          together,          to\\nthank          you          for          the          apples.\\nBut          when          he          arrived,          the          crocodile          snapped          and          said,          Monkey!          I          want          to          eat          your          heart,\\nso          I          can          be          as          clever          as          you          '"
      ]
     },
     "execution_count": 87,
     "metadata": {},
     "output_type": "execute_result"
    }
   ],
   "source": [
    "story.replace(' ','          ')"
   ]
  },
  {
   "cell_type": "code",
   "execution_count": null,
   "metadata": {},
   "outputs": [],
   "source": []
  }
 ],
 "metadata": {
  "interpreter": {
   "hash": "19d1d53a962d236aa061289c2ac16dc8e6d9648c89fe79f459ae9a3493bc67b4"
  },
  "kernelspec": {
   "display_name": "Python 3.9.12 ('base')",
   "language": "python",
   "name": "python3"
  },
  "language_info": {
   "codemirror_mode": {
    "name": "ipython",
    "version": 3
   },
   "file_extension": ".py",
   "mimetype": "text/x-python",
   "name": "python",
   "nbconvert_exporter": "python",
   "pygments_lexer": "ipython3",
   "version": "3.9.12"
  },
  "orig_nbformat": 4
 },
 "nbformat": 4,
 "nbformat_minor": 2
}
