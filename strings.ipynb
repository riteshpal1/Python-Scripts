{
 "cells": [
  {
   "cell_type": "code",
   "execution_count": 5,
   "metadata": {},
   "outputs": [
    {
     "name": "stdout",
     "output_type": "stream",
     "text": [
      "Hello\n",
      "Hello\n",
      "Hello\n",
      "Hello, Welcome to the world of python\n"
     ]
    }
   ],
   "source": [
    "# defining strings in python \n",
    "# all of the followinng are equivallent\n",
    "\n",
    "my_string ='Hello'\n",
    "print(my_string)\n",
    "\n",
    "my_string =\"Hello\"\n",
    "print(my_string)\n",
    "\n",
    "\n",
    "my_string ='''Hello'''\n",
    "print(my_string)\n",
    "\n",
    "# triple quotes string can extend multiple lines\n",
    "my_string = \"\"\"Hello, Welcome to the world of python\"\"\"\n",
    "print(my_string)"
   ]
  },
  {
   "cell_type": "code",
   "execution_count": 7,
   "metadata": {},
   "outputs": [
    {
     "name": "stdout",
     "output_type": "stream",
     "text": [
      "d digipodium\n",
      "str[0] d\n"
     ]
    }
   ],
   "source": [
    "#Accessing string characters in python\n",
    "str = 'digipodium'\n",
    "print(str[0], str)\n",
    "\n",
    "#first character\n",
    "print('str[0]', str[0])\n",
    "\n",
    "#second character\n",
    "print('str[1]', str[1])\n",
    "\n",
    "#"
   ]
  },
  {
   "cell_type": "markdown",
   "metadata": {},
   "source": [
    "## Slicing"
   ]
  },
  {
   "cell_type": "code",
   "execution_count": 15,
   "metadata": {},
   "outputs": [
    {
     "name": "stdout",
     "output_type": "stream",
     "text": [
      "podium\n"
     ]
    }
   ],
   "source": [
    "# Getiing a slice\n",
    "\n",
    "s = 'digipodium'\n",
    "slice1 = s[4:10]\n",
    "print(slice1)"
   ]
  },
  {
   "cell_type": "code",
   "execution_count": 17,
   "metadata": {},
   "outputs": [],
   "source": [
    " x = \"sodium carbonate\""
   ]
  },
  {
   "cell_type": "code",
   "execution_count": 19,
   "metadata": {},
   "outputs": [
    {
     "data": {
      "text/plain": [
       "'sodium'"
      ]
     },
     "execution_count": 19,
     "metadata": {},
     "output_type": "execute_result"
    }
   ],
   "source": [
    " x[:6]"
   ]
  },
  {
   "cell_type": "code",
   "execution_count": 20,
   "metadata": {},
   "outputs": [
    {
     "data": {
      "text/plain": [
       "'carbonate'"
      ]
     },
     "execution_count": 20,
     "metadata": {},
     "output_type": "execute_result"
    }
   ],
   "source": [
    "x[7:]"
   ]
  },
  {
   "cell_type": "code",
   "execution_count": 22,
   "metadata": {},
   "outputs": [
    {
     "name": "stdout",
     "output_type": "stream",
     "text": [
      "A\n"
     ]
    }
   ],
   "source": [
    "x  = chr(65)\n",
    "print(x)"
   ]
  },
  {
   "cell_type": "code",
   "execution_count": 23,
   "metadata": {},
   "outputs": [
    {
     "name": "stdout",
     "output_type": "stream",
     "text": [
      "ऽ\n"
     ]
    }
   ],
   "source": [
    "x = chr(2365)\n",
    "print(x)"
   ]
  },
  {
   "cell_type": "code",
   "execution_count": 26,
   "metadata": {},
   "outputs": [
    {
     "name": "stdout",
     "output_type": "stream",
     "text": [
      "き\n"
     ]
    }
   ],
   "source": [
    "x = chr(12365)\n",
    "print(x)"
   ]
  },
  {
   "cell_type": "markdown",
   "metadata": {},
   "source": []
  },
  {
   "cell_type": "code",
   "execution_count": 27,
   "metadata": {},
   "outputs": [],
   "source": [
    "w = \"Worldsingers\""
   ]
  },
  {
   "cell_type": "code",
   "execution_count": 28,
   "metadata": {},
   "outputs": [
    {
     "data": {
      "text/plain": [
       "'World'"
      ]
     },
     "execution_count": 28,
     "metadata": {},
     "output_type": "execute_result"
    }
   ],
   "source": [
    "#slicing\n",
    "w[ :5]"
   ]
  },
  {
   "cell_type": "code",
   "execution_count": 29,
   "metadata": {},
   "outputs": [
    {
     "data": {
      "text/plain": [
       "'olsnes'"
      ]
     },
     "execution_count": 29,
     "metadata": {},
     "output_type": "execute_result"
    }
   ],
   "source": [
    "w[1: :2] #Odd indexs"
   ]
  },
  {
   "cell_type": "code",
   "execution_count": 32,
   "metadata": {},
   "outputs": [
    {
     "data": {
      "text/plain": [
       "'Wrdigr'"
      ]
     },
     "execution_count": 32,
     "metadata": {},
     "output_type": "execute_result"
    }
   ],
   "source": [
    "w[ : :2] #even indexs"
   ]
  },
  {
   "cell_type": "code",
   "execution_count": 31,
   "metadata": {},
   "outputs": [
    {
     "data": {
      "text/plain": [
       "'sregnisdlroW'"
      ]
     },
     "execution_count": 31,
     "metadata": {},
     "output_type": "execute_result"
    }
   ],
   "source": [
    "w[ : : -1] #reverse indexs"
   ]
  },
  {
   "cell_type": "markdown",
   "metadata": {},
   "source": [
    "# String Patterns"
   ]
  },
  {
   "cell_type": "code",
   "execution_count": 36,
   "metadata": {},
   "outputs": [
    {
     "name": "stdout",
     "output_type": "stream",
     "text": [
      "            L  \n",
      "         L  L  \n",
      "      L  L  L  \n",
      "   L  L  L  L  \n",
      "L  L  L  L  L  \n"
     ]
    }
   ],
   "source": [
    "#right alignment\n",
    "for i in range(1,6):\n",
    "  print((i * 'L  ').rjust(15))"
   ]
  },
  {
   "cell_type": "code",
   "execution_count": 41,
   "metadata": {},
   "outputs": [
    {
     "name": "stdout",
     "output_type": "stream",
     "text": [
      "                                     L                                          \n",
      "                                L    L    L                                     \n",
      "                           L    L    L    L    L                                \n",
      "                      L    L    L    L    L    L    L                           \n",
      "                 L    L    L    L    L    L    L    L    L                      \n",
      "            L    L    L    L    L    L    L    L    L    L    L                 \n",
      "       L    L    L    L    L    L    L    L    L    L    L    L    L            \n"
     ]
    }
   ],
   "source": [
    "\n",
    "for i in range(1,15,2):\n",
    "  \n",
    "  print((i * 'L    ').center(80))\n"
   ]
  },
  {
   "cell_type": "code",
   "execution_count": 46,
   "metadata": {},
   "outputs": [
    {
     "name": "stdout",
     "output_type": "stream",
     "text": [
      "                                       *                                        \n",
      "                                      ***                                       \n",
      "                                     *****                                      \n",
      "                                    *******                                     \n",
      "                                   *********                                    \n",
      "                                  ***********                                   \n",
      "                                 *************                                  \n"
     ]
    }
   ],
   "source": [
    "for i in range(1,15,2):\n",
    "  print((i * '*').center(80))"
   ]
  },
  {
   "cell_type": "code",
   "execution_count": 52,
   "metadata": {},
   "outputs": [
    {
     "name": "stdout",
     "output_type": "stream",
     "text": [
      "                                                 0                                                  \n",
      "============================================= *  *  * ==============================================\n",
      "                                           0  0  0  0  0                                            \n",
      "======================================= *  *  *  *  *  *  * ========================================\n",
      "                                     0  0  0  0  0  0  0  0  0                                      \n",
      "================================= *  *  *  *  *  *  *  *  *  *  * ==================================\n",
      "                               0  0  0  0  0  0  0  0  0  0  0  0  0                                \n"
     ]
    }
   ],
   "source": [
    "for i, v in enumerate(range(1,15,2)):\n",
    "  if i % 2 == 0:\n",
    "    print((v* ' 0 ').center(100))\n",
    "  else:\n",
    "    print((v* ' * ').center(100,'='))"
   ]
  },
  {
   "cell_type": "markdown",
   "metadata": {},
   "source": [
    "functions"
   ]
  },
  {
   "cell_type": "code",
   "execution_count": 57,
   "metadata": {},
   "outputs": [
    {
     "name": "stdout",
     "output_type": "stream",
     "text": [
      "\u001b[1;31mSignature:\u001b[0m \u001b[0mw\u001b[0m\u001b[1;33m.\u001b[0m\u001b[0mcenter\u001b[0m\u001b[1;33m(\u001b[0m\u001b[0mwidth\u001b[0m\u001b[1;33m,\u001b[0m \u001b[0mfillchar\u001b[0m\u001b[1;33m=\u001b[0m\u001b[1;34m' '\u001b[0m\u001b[1;33m,\u001b[0m \u001b[1;33m/\u001b[0m\u001b[1;33m)\u001b[0m\u001b[1;33m\u001b[0m\u001b[1;33m\u001b[0m\u001b[0m\n",
      "\u001b[1;31mDocstring:\u001b[0m\n",
      "Return a centered string of length width.\n",
      "\n",
      "Padding is done using the specified fill character (default is a space).\n",
      "\u001b[1;31mType:\u001b[0m      builtin_function_or_method\n"
     ]
    }
   ],
   "source": [
    "w.center?"
   ]
  },
  {
   "cell_type": "code",
   "execution_count": 2,
   "metadata": {},
   "outputs": [],
   "source": [
    "story = '''Once upon a time, there was a clever monkey. He lived on a\n",
    "beautiful island, in an apple tree. One day, a crocodile swam\n",
    "to the island. im hungry, he said.\n",
    "So the monkey threw a red apple to the crocodile. The\n",
    "crocodile munched and munched. The next day, the\n",
    "crocodile came back. Please, may I have two apples? he asked. He ate one and gave\n",
    "one to his wife.\n",
    "The crocodile went to see the monkey every day, to listen to his tales and eat his\n",
    "apples. He wanted to be clever, just like the monkey. The crocodiles wife had an idea.\n",
    "Why dont you eat his heart? Then youll be clever, just like him!\n",
    "The next day, he said to the monkey, Come to my house! Well have lunch together, to\n",
    "thank you for the apples.\n",
    "But when he arrived, the crocodile snapped and said, Monkey! I want to eat your heart,\n",
    "so I can be as clever as you '''"
   ]
  },
  {
   "cell_type": "code",
   "execution_count": 3,
   "metadata": {},
   "outputs": [
    {
     "data": {
      "text/plain": [
       "819"
      ]
     },
     "execution_count": 3,
     "metadata": {},
     "output_type": "execute_result"
    }
   ],
   "source": [
    "len(story)"
   ]
  },
  {
   "cell_type": "code",
   "execution_count": 73,
   "metadata": {},
   "outputs": [
    {
     "name": "stdout",
     "output_type": "stream",
     "text": [
      "['Once', 'upon', 'a', 'time,', 'there', 'was', 'a', 'clever', 'monkey.', 'He', 'lived', 'on', 'a', 'beautiful', 'island,', 'in', 'an', 'apple', 'tree.', 'One', 'day,', 'a', 'crocodile', 'swam', 'to', 'the', 'island.', 'im', 'hungry,', 'he', 'said.', 'So', 'the', 'monkey', 'threw', 'a', 'red', 'apple', 'to', 'the', 'crocodile.', 'The', 'crocodile', 'munched', 'and', 'munched.', 'The', 'next', 'day,', 'the', 'crocodile', 'came', 'back.', 'Please,', 'may', 'I', 'have', 'two', 'apples?', 'he', 'asked.', 'He', 'ate', 'one', 'and', 'gave', 'one', 'to', 'his', 'wife.', 'The', 'crocodile', 'went', 'to', 'see', 'the', 'monkey', 'every', 'day,', 'to', 'listen', 'to', 'his', 'tales', 'and', 'eat', 'his', 'apples.', 'He', 'wanted', 'to', 'be', 'clever,', 'just', 'like', 'the', 'monkey.', 'The', 'crocodiles', 'wife', 'had', 'an', 'idea.', 'Why', 'dont', 'you', 'eat', 'his', 'heart?', 'Then', 'youll', 'be', 'clever,', 'just', 'like', 'him!', 'The', 'next', 'day,', 'he', 'said', 'to', 'the', 'monkey,', 'Come', 'to', 'my', 'house!', 'Well', 'have', 'lunch', 'together,', 'to', 'thank', 'you', 'for', 'the', 'apples.', 'But', 'when', 'he', 'arrived,', 'the', 'crocodile', 'snapped', 'and', 'said,', 'Monkey!', 'I', 'want', 'to', 'eat', 'your', 'heart,', 'so', 'I', 'can', 'be', 'as', 'clever', 'as', 'you']\n"
     ]
    }
   ],
   "source": [
    "print(story.split())"
   ]
  },
  {
   "cell_type": "code",
   "execution_count": 4,
   "metadata": {},
   "outputs": [
    {
     "name": "stdout",
     "output_type": "stream",
     "text": [
      "162\n"
     ]
    }
   ],
   "source": [
    "words = (story.split())\n",
    "print(len(words))"
   ]
  },
  {
   "cell_type": "code",
   "execution_count": 70,
   "metadata": {},
   "outputs": [
    {
     "data": {
      "text/plain": [
       "[' Once upon a time, there was a clever monkey',\n",
       " ' He lived on a\\nbeautiful island, in an apple tree',\n",
       " ' One day, a crocodile swam\\nto the island',\n",
       " ' im hungry, he said',\n",
       " '\\nSo the monkey threw a red apple to the crocodile',\n",
       " ' The\\ncrocodile munched and munched',\n",
       " ' The next day, the\\ncrocodile came back',\n",
       " ' Please, may I have two apples? he asked',\n",
       " ' He ate one and gave\\none to his wife',\n",
       " '\\nThe crocodile went to see the monkey every day, to listen to his tales and eat his\\napples',\n",
       " ' He wanted to be clever, just like the monkey',\n",
       " ' The crocodiles wife had an idea',\n",
       " '\\nWhy dont you eat his heart? Then youll be clever, just like him!\\nThe next day, he said to the monkey, Come to my house! Well have lunch together, to\\nthank you for the apples',\n",
       " '\\nBut when he arrived, the crocodile snapped and said, Monkey! I want to eat your heart,\\nso I can be as clever as you ']"
      ]
     },
     "execution_count": 70,
     "metadata": {},
     "output_type": "execute_result"
    }
   ],
   "source": [
    "story.split('.')"
   ]
  },
  {
   "cell_type": "code",
   "execution_count": 5,
   "metadata": {},
   "outputs": [],
   "source": [
    "wordlist = ['Chocolate', 'is', 'good', 'for', 'health']"
   ]
  },
  {
   "cell_type": "code",
   "execution_count": 6,
   "metadata": {},
   "outputs": [
    {
     "data": {
      "text/plain": [
       "'Chocolate is good for health'"
      ]
     },
     "execution_count": 6,
     "metadata": {},
     "output_type": "execute_result"
    }
   ],
   "source": [
    "' '.join(wordlist)"
   ]
  },
  {
   "cell_type": "code",
   "execution_count": 7,
   "metadata": {},
   "outputs": [
    {
     "data": {
      "text/plain": [
       "'Once          upon          a          time,          there          was          a          clever          monkey.          He          lived          on          a\\nbeautiful          island,          in          an          apple          tree.          One          day,          a          crocodile          swam\\nto          the          island.          im          hungry,          he          said.\\nSo          the          monkey          threw          a          red          apple          to          the          crocodile.          The\\ncrocodile          munched          and          munched.          The          next          day,          the\\ncrocodile          came          back.          Please,          may          I          have          two          apples?          he          asked.          He          ate          one          and          gave\\none          to          his          wife.\\nThe          crocodile          went          to          see          the          monkey          every          day,          to          listen          to          his          tales          and          eat          his\\napples.          He          wanted          to          be          clever,          just          like          the          monkey.          The          crocodiles          wife          had          an          idea.\\nWhy          dont          you          eat          his          heart?          Then          youll          be          clever,          just          like          him!\\nThe          next          day,          he          said          to          the          monkey,          Come          to          my          house!          Well          have          lunch          together,          to\\nthank          you          for          the          apples.\\nBut          when          he          arrived,          the          crocodile          snapped          and          said,          Monkey!          I          want          to          eat          your          heart,\\nso          I          can          be          as          clever          as          you          '"
      ]
     },
     "execution_count": 7,
     "metadata": {},
     "output_type": "execute_result"
    }
   ],
   "source": [
    "story.replace(' ','          ')"
   ]
  },
  {
   "cell_type": "code",
   "execution_count": 8,
   "metadata": {},
   "outputs": [
    {
     "data": {
      "text/plain": [
       "'Once upon a time, there was a clever monkey? He lived on a\\nbeautiful island, in an apple tree? One day, a crocodile swam\\nto the island? im hungry, he said?\\nSo the monkey threw a red apple to the crocodile? The\\ncrocodile munched and munched? The next day, the\\ncrocodile came back? Please, may I have two apples? he asked? He ate one and gave\\none to his wife?\\nThe crocodile went to see the monkey every day, to listen to his tales and eat his\\napples? He wanted to be clever, just like the monkey? The crocodiles wife had an idea?\\nWhy dont you eat his heart? Then youll be clever, just like him!\\nThe next day, he said to the monkey, Come to my house! Well have lunch together, to\\nthank you for the apples?\\nBut when he arrived, the crocodile snapped and said, Monkey! I want to eat your heart,\\nso I can be as clever as you '"
      ]
     },
     "execution_count": 8,
     "metadata": {},
     "output_type": "execute_result"
    }
   ],
   "source": [
    "story.replace('.','?')"
   ]
  },
  {
   "cell_type": "code",
   "execution_count": 9,
   "metadata": {},
   "outputs": [
    {
     "data": {
      "text/plain": [
       "'Once upon a time, there was a clever monkey!! He lived on a\\nbeautiful island, in an apple tree!! One day, a crocodile swam\\nto the island!! im hungry, he said.\\nSo the monkey threw a red apple to the crocodile. The\\ncrocodile munched and munched. The next day, the\\ncrocodile came back. Please, may I have two apples? he asked. He ate one and gave\\none to his wife.\\nThe crocodile went to see the monkey every day, to listen to his tales and eat his\\napples. He wanted to be clever, just like the monkey. The crocodiles wife had an idea.\\nWhy dont you eat his heart? Then youll be clever, just like him!\\nThe next day, he said to the monkey, Come to my house! Well have lunch together, to\\nthank you for the apples.\\nBut when he arrived, the crocodile snapped and said, Monkey! I want to eat your heart,\\nso I can be as clever as you '"
      ]
     },
     "execution_count": 9,
     "metadata": {},
     "output_type": "execute_result"
    }
   ],
   "source": [
    "story.replace('.','!!',3)"
   ]
  },
  {
   "cell_type": "code",
   "execution_count": 10,
   "metadata": {},
   "outputs": [
    {
     "data": {
      "text/plain": [
       "'ONCE UPON A TIME, THERE WAS A CLEVER MONKEY. HE LIVED ON A\\nBEAUTIFUL ISLAND, IN AN APPLE TREE. ONE DAY, A CROCODILE SWAM\\nTO THE ISLAND. IM HUNGRY, HE SAID.\\nSO THE MONKEY THREW A RED APPLE TO THE CROCODILE. THE\\nCROCODILE MUNCHED AND MUNCHED. THE NEXT DAY, THE\\nCROCODILE CAME BACK. PLEASE, MAY I HAVE TWO APPLES? HE ASKED. HE ATE ONE AND GAVE\\nONE TO HIS WIFE.\\nTHE CROCODILE WENT TO SEE THE MONKEY EVERY DAY, TO LISTEN TO HIS TALES AND EAT HIS\\nAPPLES. HE WANTED TO BE CLEVER, JUST LIKE THE MONKEY. THE CROCODILES WIFE HAD AN IDEA.\\nWHY DONT YOU EAT HIS HEART? THEN YOULL BE CLEVER, JUST LIKE HIM!\\nTHE NEXT DAY, HE SAID TO THE MONKEY, COME TO MY HOUSE! WELL HAVE LUNCH TOGETHER, TO\\nTHANK YOU FOR THE APPLES.\\nBUT WHEN HE ARRIVED, THE CROCODILE SNAPPED AND SAID, MONKEY! I WANT TO EAT YOUR HEART,\\nSO I CAN BE AS CLEVER AS YOU '"
      ]
     },
     "execution_count": 10,
     "metadata": {},
     "output_type": "execute_result"
    }
   ],
   "source": [
    "story.upper()"
   ]
  },
  {
   "cell_type": "code",
   "execution_count": 11,
   "metadata": {},
   "outputs": [
    {
     "data": {
      "text/plain": [
       "'once upon a time, there was a clever monkey. he lived on a\\nbeautiful island, in an apple tree. one day, a crocodile swam\\nto the island. im hungry, he said.\\nso the monkey threw a red apple to the crocodile. the\\ncrocodile munched and munched. the next day, the\\ncrocodile came back. please, may i have two apples? he asked. he ate one and gave\\none to his wife.\\nthe crocodile went to see the monkey every day, to listen to his tales and eat his\\napples. he wanted to be clever, just like the monkey. the crocodiles wife had an idea.\\nwhy dont you eat his heart? then youll be clever, just like him!\\nthe next day, he said to the monkey, come to my house! well have lunch together, to\\nthank you for the apples.\\nbut when he arrived, the crocodile snapped and said, monkey! i want to eat your heart,\\nso i can be as clever as you '"
      ]
     },
     "execution_count": 11,
     "metadata": {},
     "output_type": "execute_result"
    }
   ],
   "source": [
    "story.lower()"
   ]
  },
  {
   "cell_type": "code",
   "execution_count": 12,
   "metadata": {},
   "outputs": [
    {
     "data": {
      "text/plain": [
       "'Once upon a time, there was a clever monkey. he lived on a\\nbeautiful island, in an apple tree. one day, a crocodile swam\\nto the island. im hungry, he said.\\nso the monkey threw a red apple to the crocodile. the\\ncrocodile munched and munched. the next day, the\\ncrocodile came back. please, may i have two apples? he asked. he ate one and gave\\none to his wife.\\nthe crocodile went to see the monkey every day, to listen to his tales and eat his\\napples. he wanted to be clever, just like the monkey. the crocodiles wife had an idea.\\nwhy dont you eat his heart? then youll be clever, just like him!\\nthe next day, he said to the monkey, come to my house! well have lunch together, to\\nthank you for the apples.\\nbut when he arrived, the crocodile snapped and said, monkey! i want to eat your heart,\\nso i can be as clever as you'"
      ]
     },
     "execution_count": 12,
     "metadata": {},
     "output_type": "execute_result"
    }
   ],
   "source": [
    "story.strip().capitalize()"
   ]
  },
  {
   "cell_type": "code",
   "execution_count": 13,
   "metadata": {},
   "outputs": [
    {
     "data": {
      "text/plain": [
       "'oNCE UPON A TIME, THERE WAS A CLEVER MONKEY. hE LIVED ON A\\nBEAUTIFUL ISLAND, IN AN APPLE TREE. oNE DAY, A CROCODILE SWAM\\nTO THE ISLAND. IM HUNGRY, HE SAID.\\nsO THE MONKEY THREW A RED APPLE TO THE CROCODILE. tHE\\nCROCODILE MUNCHED AND MUNCHED. tHE NEXT DAY, THE\\nCROCODILE CAME BACK. pLEASE, MAY i HAVE TWO APPLES? HE ASKED. hE ATE ONE AND GAVE\\nONE TO HIS WIFE.\\ntHE CROCODILE WENT TO SEE THE MONKEY EVERY DAY, TO LISTEN TO HIS TALES AND EAT HIS\\nAPPLES. hE WANTED TO BE CLEVER, JUST LIKE THE MONKEY. tHE CROCODILES WIFE HAD AN IDEA.\\nwHY DONT YOU EAT HIS HEART? tHEN YOULL BE CLEVER, JUST LIKE HIM!\\ntHE NEXT DAY, HE SAID TO THE MONKEY, cOME TO MY HOUSE! wELL HAVE LUNCH TOGETHER, TO\\nTHANK YOU FOR THE APPLES.\\nbUT WHEN HE ARRIVED, THE CROCODILE SNAPPED AND SAID, mONKEY! i WANT TO EAT YOUR HEART,\\nSO i CAN BE AS CLEVER AS YOU '"
      ]
     },
     "execution_count": 13,
     "metadata": {},
     "output_type": "execute_result"
    }
   ],
   "source": [
    "story.swapcase()"
   ]
  },
  {
   "cell_type": "code",
   "execution_count": 14,
   "metadata": {},
   "outputs": [
    {
     "data": {
      "text/plain": [
       "'once upon a time, there was a clever monkey. he lived on a\\nbeautiful island, in an apple tree. one day, a crocodile swam\\nto the island. im hungry, he said.\\nso the monkey threw a red apple to the crocodile. the\\ncrocodile munched and munched. the next day, the\\ncrocodile came back. please, may i have two apples? he asked. he ate one and gave\\none to his wife.\\nthe crocodile went to see the monkey every day, to listen to his tales and eat his\\napples. he wanted to be clever, just like the monkey. the crocodiles wife had an idea.\\nwhy dont you eat his heart? then youll be clever, just like him!\\nthe next day, he said to the monkey, come to my house! well have lunch together, to\\nthank you for the apples.\\nbut when he arrived, the crocodile snapped and said, monkey! i want to eat your heart,\\nso i can be as clever as you '"
      ]
     },
     "execution_count": 14,
     "metadata": {},
     "output_type": "execute_result"
    }
   ],
   "source": [
    "story.casefold()"
   ]
  },
  {
   "cell_type": "code",
   "execution_count": 15,
   "metadata": {},
   "outputs": [
    {
     "data": {
      "text/plain": [
       "True"
      ]
     },
     "execution_count": 15,
     "metadata": {},
     "output_type": "execute_result"
    }
   ],
   "source": [
    "msg = input('enter anything:')\n",
    "msg.isalpha()"
   ]
  },
  {
   "cell_type": "code",
   "execution_count": 16,
   "metadata": {},
   "outputs": [
    {
     "data": {
      "text/plain": [
       "False"
      ]
     },
     "execution_count": 16,
     "metadata": {},
     "output_type": "execute_result"
    }
   ],
   "source": [
    "msg = input('enter anything:')\n",
    "msg.isalpha()"
   ]
  },
  {
   "cell_type": "code",
   "execution_count": 17,
   "metadata": {},
   "outputs": [
    {
     "name": "stdout",
     "output_type": "stream",
     "text": [
      "invalid number\n"
     ]
    }
   ],
   "source": [
    "msg = input('enter a number:')\n",
    "if msg.isnumeric():\n",
    "    print('valid number')\n",
    "else:\n",
    "    print('invalid number')"
   ]
  },
  {
   "cell_type": "code",
   "execution_count": 18,
   "metadata": {},
   "outputs": [
    {
     "name": "stdout",
     "output_type": "stream",
     "text": [
      "valid number\n"
     ]
    }
   ],
   "source": [
    "msg = input('enter a number:')\n",
    "if msg.isnumeric():\n",
    "    print('valid number')\n",
    "else:\n",
    "    print('invalid number')"
   ]
  },
  {
   "cell_type": "code",
   "execution_count": 19,
   "metadata": {},
   "outputs": [
    {
     "data": {
      "text/plain": [
       "True"
      ]
     },
     "execution_count": 19,
     "metadata": {},
     "output_type": "execute_result"
    }
   ],
   "source": [
    "msg = input('enter anything:')\n",
    "msg.isalnum()"
   ]
  },
  {
   "cell_type": "code",
   "execution_count": 22,
   "metadata": {},
   "outputs": [
    {
     "data": {
      "text/plain": [
       "False"
      ]
     },
     "execution_count": 22,
     "metadata": {},
     "output_type": "execute_result"
    }
   ],
   "source": [
    "msg = input('enter anything:')\n",
    "msg.isalnum()"
   ]
  },
  {
   "cell_type": "code",
   "execution_count": 23,
   "metadata": {},
   "outputs": [
    {
     "data": {
      "text/plain": [
       "53"
      ]
     },
     "execution_count": 23,
     "metadata": {},
     "output_type": "execute_result"
    }
   ],
   "source": [
    "story.count('a')"
   ]
  },
  {
   "cell_type": "code",
   "execution_count": 24,
   "metadata": {},
   "outputs": [
    {
     "name": "stdout",
     "output_type": "stream",
     "text": [
      "0\n"
     ]
    }
   ],
   "source": [
    "occurance = story.count('of')\n",
    "print(occurance)"
   ]
  },
  {
   "cell_type": "code",
   "execution_count": 25,
   "metadata": {},
   "outputs": [
    {
     "name": "stdout",
     "output_type": "stream",
     "text": [
      "a 53\n",
      "b 5\n",
      "c 25\n",
      "d 31\n",
      "e 102\n",
      "f 4\n",
      "g 3\n",
      "h 40\n",
      "i 29\n",
      "j 2\n",
      "k 11\n",
      "l 30\n",
      "m 15\n",
      "n 37\n",
      "o 48\n",
      "p 13\n",
      "q 0\n",
      "r 24\n",
      "s 27\n",
      "t 46\n",
      "u 16\n",
      "v 10\n",
      "w 10\n",
      "x 2\n",
      "y 20\n",
      "z 0\n"
     ]
    }
   ],
   "source": [
    "for char in \"abcdefghijklmnopqrstuvwxyz\":\n",
    "    print(char,story.count(char))"
   ]
  },
  {
   "cell_type": "code",
   "execution_count": 26,
   "metadata": {},
   "outputs": [
    {
     "name": "stdout",
     "output_type": "stream",
     "text": [
      "Aman 4\n",
      "Aman 4\n"
     ]
    }
   ],
   "source": [
    "name = input('enter your name:')\n",
    "print(name,len(name))\n",
    "# cleaning name\n",
    "name = name.strip()\n",
    "print(name,len(name))"
   ]
  },
  {
   "cell_type": "code",
   "execution_count": 27,
   "metadata": {},
   "outputs": [
    {
     "name": "stdout",
     "output_type": "stream",
     "text": [
      "Welcome gentlemen, Mr. Smith\n",
      "Welcome Milady, Mrs. Jones\n",
      "Welcome gentlemen, Mr. Williams\n",
      "Welcome gentlemen, Mr. Brown\n"
     ]
    }
   ],
   "source": [
    "guestlist = ['Mr. Smith', 'Mrs. Jones', 'Mr. Williams', 'Mr. Brown']\n",
    "for name in guestlist:\n",
    "    if name.startswith('Mr.'):\n",
    "        print(f'Welcome gentlemen, {name}')\n",
    "    if name.startswith('Mrs.'):\n",
    "        print(f'Welcome Milady, {name}')"
   ]
  },
  {
   "cell_type": "code",
   "execution_count": 28,
   "metadata": {},
   "outputs": [
    {
     "name": "stdout",
     "output_type": "stream",
     "text": [
      "Song.mp3 is Audio file\n",
      "Song.mp4 is Video file\n",
      "doc.txt is Text file\n",
      "doc2.txt is Text file\n",
      "doc3.txt is Text file\n",
      "Video.mp4 is Video file\n"
     ]
    }
   ],
   "source": [
    "files = ['Song.mp3', 'Song.mp4', 'doc.txt', 'doc2.txt', 'doc3.txt', 'Video.mp4']\n",
    "# display all file types\n",
    "for file in files:\n",
    "    if file.endswith('.mp3'):\n",
    "        print(f'{file} is Audio file')\n",
    "    elif file.endswith('.mp4'):\n",
    "        print(f'{file} is Video file')\n",
    "    elif file.endswith('.txt'):\n",
    "        print(f'{file} is Text file')"
   ]
  },
  {
   "cell_type": "markdown",
   "metadata": {},
   "source": [
    "Remove all vowel from a string entered by user"
   ]
  },
  {
   "cell_type": "code",
   "execution_count": 29,
   "metadata": {},
   "outputs": [
    {
     "name": "stdout",
     "output_type": "stream",
     "text": [
      "this is  messge, nd it is  long messge\n",
      "this is  mssg, nd it is  long mssg\n",
      "ths s  mssg, nd t s  long mssg\n",
      "ths s  mssg, nd t s  lng mssg\n",
      "ths s  mssg, nd t s  lng mssg\n",
      "ths s  mssg, nd t s  lng mssg\n",
      "ths s  mssg, nd t s  lng mssg\n",
      "ths s  mssg, nd t s  lng mssg\n",
      "ths s  mssg, nd t s  lng mssg\n",
      "ths s  mssg, nd t s  lng mssg\n"
     ]
    }
   ],
   "source": [
    "vowels = 'aeiouAEIOU'\n",
    "message = 'this is a message, and it is a long message'\n",
    "\n",
    "for vowel in vowels:\n",
    "    message = message.replace(vowel,'')\n",
    "    print(message)"
   ]
  },
  {
   "cell_type": "markdown",
   "metadata": {},
   "source": [
    "Count all vowel from a string entered by user"
   ]
  },
  {
   "cell_type": "code",
   "execution_count": 30,
   "metadata": {},
   "outputs": [
    {
     "name": "stdout",
     "output_type": "stream",
     "text": [
      "a occurs 53 times\n",
      "e occurs 102 times\n",
      "i occurs 32 times\n",
      "o occurs 50 times\n",
      "u occurs 16 times\n"
     ]
    }
   ],
   "source": [
    "for vowel in \"aeiou\":\n",
    "    print(f\"{vowel} occurs {story.lower().count(vowel)} times\")"
   ]
  },
  {
   "cell_type": "code",
   "execution_count": null,
   "metadata": {},
   "outputs": [],
   "source": []
  }
 ],
 "metadata": {
  "interpreter": {
   "hash": "19d1d53a962d236aa061289c2ac16dc8e6d9648c89fe79f459ae9a3493bc67b4"
  },
  "kernelspec": {
   "display_name": "Python 3.9.12 ('base')",
   "language": "python",
   "name": "python3"
  },
  "language_info": {
   "codemirror_mode": {
    "name": "ipython",
    "version": 3
   },
   "file_extension": ".py",
   "mimetype": "text/x-python",
   "name": "python",
   "nbconvert_exporter": "python",
   "pygments_lexer": "ipython3",
   "version": "3.9.12"
  },
  "orig_nbformat": 4
 },
 "nbformat": 4,
 "nbformat_minor": 2
}
